{
 "cells": [
  {
   "cell_type": "markdown",
   "id": "214ffd04",
   "metadata": {},
   "source": [
    "# Converting webscraping data to csv"
   ]
  },
  {
   "cell_type": "code",
   "execution_count": 3,
   "id": "10f97d91",
   "metadata": {},
   "outputs": [],
   "source": [
    "## lets import the AutoScraper \n",
    "from autoscraper import AutoScraper"
   ]
  },
  {
   "cell_type": "code",
   "execution_count": 4,
   "id": "bd251cee",
   "metadata": {},
   "outputs": [],
   "source": [
    "## We will use amazon url for echo speaker\n",
    "url=\"https://www.amazon.in/s?k=alexa\""
   ]
  },
  {
   "cell_type": "markdown",
   "id": "4df7a9cb",
   "metadata": {},
   "source": [
    "## Open the website and copy e.g. title, price, reviews etc that you want"
   ]
  },
  {
   "cell_type": "code",
   "execution_count": 5,
   "id": "7d7bc572",
   "metadata": {},
   "outputs": [],
   "source": [
    "## just copy from website what you want\n",
    "wanted_list=['Echo Dot (3rd Gen) - #1 smart speaker brand in India with Alexa (Black)','₹3,199','71,677']"
   ]
  },
  {
   "cell_type": "markdown",
   "id": "2689e029",
   "metadata": {},
   "source": [
    "### We build our web scraper by creating an object for AutoScraper(). Then by using build() and get_result_similar() methods we generate scraped data."
   ]
  },
  {
   "cell_type": "code",
   "execution_count": 6,
   "id": "01c071c4",
   "metadata": {},
   "outputs": [
    {
     "name": "stdout",
     "output_type": "stream",
     "text": [
      "['Echo Dot (3rd Gen) - #1 smart speaker brand in India with Alexa (Black)', 'Echo Studio - Smart speaker with high-fidelity audio, Dolby Atmos and Alexa (Black)', 'Zebronics Zeb-Smart Bot Smart Speaker with IR Blaster, Alexa Built-in, Works with iOS and Android Smartphones', 'Sonos One Gen 2 Speaker (White)', 'Echo Dot (4th Gen, 2020 release)| #1 smart speaker brand in India with Alexa (Black)', 'Echo Dot (4th Gen, 2020 release)| #1 smart speaker brand in India with Alexa (Blue)', 'Echo Dot (3rd Gen) - #1 smart speaker brand in India with Alexa (White)', 'Echo Dot (3rd Gen), Certified Refurbished, Black – Improved smart speaker with Alexa – Like new, backed with 1-year warranty', 'Echo Dot (4th Gen, 2020 release) with clock | Next generation smart speaker with powerful bass, LED display and Alexa (White)', 'Echo Dot (3rd Gen), Certified Refurbished, Grey – Improved smart speaker with Alexa – Like new, backed with 1-year warranty', 'All new Echo Show 5 (2nd Gen, 2021 release) - Smart speaker with Alexa - 5.5\" screen, crisp sound and 2MP camera (Black)', 'Echo (4th Gen, 2020 release) | Premium sound powered by Dolby and Alexa (Black)', 'Echo (4th Gen, 2020 release) | Premium sound powered by Dolby and Alexa (White)', 'boAt Stone 201A 3 Watt Wireless Bluetooth Portable Speaker with Alexa Built-in (Black)', 'All new Echo Show 5 (2nd Gen, 2021 release) - Smart speaker with Alexa - 5.5\" screen, crisp sound and 2MP camera (White)', 'Echo Dot (4th Gen, 2020 release)| #1 smart speaker brand in India with Alexa (White)', 'Echo Dot (4th Gen, White) with clock + Wipro 9W LED smart color Bulb - Works with Alexa - Smart Home starter kit', 'Echo Show 8 (1st Gen, 2020 release) - Smart speaker with 8\" HD screen, stereo sound & hands-free entertainment with Alexa (White)', 'Echo Auto - add Alexa to your car', 'All new Echo Show 5 (2nd Gen, 2021 release) - Smart speaker with Alexa - 5.5', 'Echo Show 8 (1st Gen, 2020 release) - Smart speaker with 8', '₹3,199', '₹4,499', '₹2,999', '₹3,799', '₹5,499', '₹2,699', '₹8,999', '₹7,999', '₹9,999', '₹1,599', '₹3,490', '₹5,599', '₹7,598', '₹12,999', '₹4,999', '₹22,999', '₹3,748', '₹5,999', '₹21,999', '71,677', '16,427', '1,219', '5,092', '125', '2,635', '692', '3,118', '766', 'Save ₹1,300 (29%)', '536', '85', 'Save ₹2,251 (38%)', '3,420']\n"
     ]
    }
   ],
   "source": [
    "scraper=AutoScraper()\n",
    "result=scraper.build(url,wanted_list)\n",
    "print(result)"
   ]
  },
  {
   "cell_type": "code",
   "execution_count": 7,
   "id": "2ffc4451",
   "metadata": {},
   "outputs": [
    {
     "data": {
      "text/plain": [
       "{'rule_try1': [],\n",
       " 'rule_olgv': [],\n",
       " 'rule_zpmj': ['Echo Dot (3rd Gen) - #1 smart speaker brand in India with Alexa (Black)',\n",
       "  'Echo Dot (4th Gen, 2020 release)| #1 smart speaker brand in India with Alexa (Black)',\n",
       "  'Echo Dot (4th Gen, 2020 release)| #1 smart speaker brand in India with Alexa (Blue)',\n",
       "  'Echo Dot (3rd Gen) - #1 smart speaker brand in India with Alexa (White)',\n",
       "  'Echo Dot (3rd Gen), Certified Refurbished, Black – Improved smart speaker with Alexa – Like new, backed with 1-year warranty',\n",
       "  'Echo Dot (4th Gen, 2020 release) with clock | Next generation smart speaker with powerful bass, LED display and Alexa (White)',\n",
       "  'Echo Dot (3rd Gen), Certified Refurbished, Grey – Improved smart speaker with Alexa – Like new, backed with 1-year warranty',\n",
       "  'All new Echo Show 5 (2nd Gen, 2021 release) - Smart speaker with Alexa - 5.5\" screen, crisp sound and 2MP camera (Black)',\n",
       "  'Echo (4th Gen, 2020 release) | Premium sound powered by Dolby and Alexa (Black)',\n",
       "  'Echo (4th Gen, 2020 release) | Premium sound powered by Dolby and Alexa (White)',\n",
       "  'boAt Stone 201A 3 Watt Wireless Bluetooth Portable Speaker with Alexa Built-in (Black)',\n",
       "  'All new Echo Show 5 (2nd Gen, 2021 release) - Smart speaker with Alexa - 5.5\" screen, crisp sound and 2MP camera (White)',\n",
       "  'Echo Dot (4th Gen, 2020 release)| #1 smart speaker brand in India with Alexa (White)',\n",
       "  'Echo Dot (4th Gen, White) with clock + Wipro 9W LED smart color Bulb - Works with Alexa - Smart Home starter kit',\n",
       "  'Echo Show 8 (1st Gen, 2020 release) - Smart speaker with 8\" HD screen, stereo sound & hands-free entertainment with Alexa (White)',\n",
       "  'Echo Auto - add Alexa to your car'],\n",
       " 'rule_p9l4': ['Echo Dot (3rd Gen) - #1 smart speaker brand in India with Alexa (Black)',\n",
       "  'Echo Dot (4th Gen, 2020 release)| #1 smart speaker brand in India with Alexa (Black)',\n",
       "  'Echo Dot (4th Gen, 2020 release)| #1 smart speaker brand in India with Alexa (Blue)',\n",
       "  'Echo Dot (3rd Gen) - #1 smart speaker brand in India with Alexa (White)',\n",
       "  'Echo Dot (3rd Gen), Certified Refurbished, Black – Improved smart speaker with Alexa – Like new, backed with 1-year warranty',\n",
       "  'Echo Dot (4th Gen, 2020 release) with clock | Next generation smart speaker with powerful bass, LED display and Alexa (White)',\n",
       "  'Echo Dot (3rd Gen), Certified Refurbished, Grey – Improved smart speaker with Alexa – Like new, backed with 1-year warranty',\n",
       "  'All new Echo Show 5 (2nd Gen, 2021 release) - Smart speaker with Alexa - 5.5',\n",
       "  'Echo (4th Gen, 2020 release) | Premium sound powered by Dolby and Alexa (Black)',\n",
       "  'Echo (4th Gen, 2020 release) | Premium sound powered by Dolby and Alexa (White)',\n",
       "  'boAt Stone 201A 3 Watt Wireless Bluetooth Portable Speaker with Alexa Built-in (Black)',\n",
       "  'All new Echo Show 5 (2nd Gen, 2021 release) - Smart speaker with Alexa - 5.5',\n",
       "  'Echo Dot (4th Gen, 2020 release)| #1 smart speaker brand in India with Alexa (White)',\n",
       "  'Echo Dot (4th Gen, White) with clock + Wipro 9W LED smart color Bulb - Works with Alexa - Smart Home starter kit',\n",
       "  'Echo Show 8 (1st Gen, 2020 release) - Smart speaker with 8',\n",
       "  'Echo Auto - add Alexa to your car'],\n",
       " 'rule_2b7t': ['₹3,199',\n",
       "  '₹4,499',\n",
       "  '₹4,499',\n",
       "  '₹4,499',\n",
       "  '₹3,199',\n",
       "  '₹4,499',\n",
       "  '₹2,999',\n",
       "  '₹3,799',\n",
       "  '₹5,499',\n",
       "  '₹2,699',\n",
       "  '₹3,799',\n",
       "  '₹5,499',\n",
       "  '₹8,999',\n",
       "  '₹7,999',\n",
       "  '₹9,999',\n",
       "  '₹7,999',\n",
       "  '₹9,999',\n",
       "  '₹1,599',\n",
       "  '₹3,490',\n",
       "  '₹5,499',\n",
       "  '₹8,999',\n",
       "  '₹4,499',\n",
       "  '₹5,599',\n",
       "  '₹7,598',\n",
       "  '₹8,999',\n",
       "  '₹12,999',\n",
       "  '₹4,999'],\n",
       " 'rule_60fq': ['₹3,199',\n",
       "  '₹4,499',\n",
       "  '₹4,499',\n",
       "  '₹4,499',\n",
       "  '₹3,199',\n",
       "  '₹4,499',\n",
       "  '₹2,999',\n",
       "  '₹3,799',\n",
       "  '₹5,499',\n",
       "  '₹2,699',\n",
       "  '₹3,799',\n",
       "  '₹5,499',\n",
       "  '₹8,999',\n",
       "  '₹7,999',\n",
       "  '₹9,999',\n",
       "  '₹7,999',\n",
       "  '₹9,999',\n",
       "  '₹1,599',\n",
       "  '₹3,490',\n",
       "  '₹5,499',\n",
       "  '₹8,999',\n",
       "  '₹4,499',\n",
       "  '₹5,599',\n",
       "  '₹7,598',\n",
       "  '₹8,999',\n",
       "  '₹12,999',\n",
       "  '₹4,999'],\n",
       " 'rule_4tzw': [],\n",
       " 'rule_souo': [],\n",
       " 'rule_gt7k': ['₹3,199',\n",
       "  '₹4,499',\n",
       "  '₹4,499',\n",
       "  '₹4,499',\n",
       "  '₹3,199',\n",
       "  '₹4,499',\n",
       "  '₹2,999',\n",
       "  '₹3,799',\n",
       "  '₹5,499',\n",
       "  '₹2,699',\n",
       "  '₹3,799',\n",
       "  '₹5,499',\n",
       "  '₹8,999',\n",
       "  '₹7,999',\n",
       "  '₹9,999',\n",
       "  '₹7,999',\n",
       "  '₹9,999',\n",
       "  '₹1,599',\n",
       "  '₹3,490',\n",
       "  '₹5,499',\n",
       "  '₹8,999',\n",
       "  '₹4,499',\n",
       "  '₹5,599',\n",
       "  '₹7,598',\n",
       "  '₹8,999',\n",
       "  '₹12,999',\n",
       "  '₹4,999'],\n",
       " 'rule_qajv': ['₹3,199',\n",
       "  '₹4,499',\n",
       "  '₹4,499',\n",
       "  '₹4,499',\n",
       "  '₹3,199',\n",
       "  '₹4,499',\n",
       "  '₹2,999',\n",
       "  '₹3,799',\n",
       "  '₹5,499',\n",
       "  '₹2,699',\n",
       "  '₹3,799',\n",
       "  '₹5,499',\n",
       "  '₹8,999',\n",
       "  '₹7,999',\n",
       "  '₹9,999',\n",
       "  '₹7,999',\n",
       "  '₹9,999',\n",
       "  '₹1,599',\n",
       "  '₹3,490',\n",
       "  '₹5,499',\n",
       "  '₹8,999',\n",
       "  '₹4,499',\n",
       "  '₹5,599',\n",
       "  '₹7,598',\n",
       "  '₹8,999',\n",
       "  '₹12,999',\n",
       "  '₹4,999'],\n",
       " 'rule_wc8p': ['71,677',\n",
       "  '16,427',\n",
       "  '16,427',\n",
       "  '71,677',\n",
       "  '1,219',\n",
       "  '5,092',\n",
       "  '1,219',\n",
       "  '125',\n",
       "  '2,635',\n",
       "  '2,635',\n",
       "  '692',\n",
       "  '125',\n",
       "  '16,427',\n",
       "  '5,092',\n",
       "  '3,118',\n",
       "  '766'],\n",
       " 'rule_98d5': [],\n",
       " 'rule_oxeb': ['71,677',\n",
       "  '16,427',\n",
       "  '16,427',\n",
       "  '71,677',\n",
       "  '1,219',\n",
       "  '5,092',\n",
       "  '1,219',\n",
       "  '125',\n",
       "  '2,635',\n",
       "  '2,635',\n",
       "  '692',\n",
       "  '125',\n",
       "  '16,427',\n",
       "  '5,092',\n",
       "  '3,118',\n",
       "  '766']}"
      ]
     },
     "execution_count": 7,
     "metadata": {},
     "output_type": "execute_result"
    }
   ],
   "source": [
    "scraper.get_result_similar(url,grouped=True)"
   ]
  },
  {
   "cell_type": "markdown",
   "id": "a78c5a88",
   "metadata": {},
   "source": [
    "### Let us assign appropriate names for the keys and save our scraper. "
   ]
  },
  {
   "cell_type": "code",
   "execution_count": 8,
   "id": "29291c4c",
   "metadata": {},
   "outputs": [],
   "source": [
    "scraper.set_rule_aliases({'rule_zpmj':'Title', 'rule_oxeb':'Rating', 'rule_2b7t':'Price'})"
   ]
  },
  {
   "cell_type": "code",
   "execution_count": 9,
   "id": "f21d337e",
   "metadata": {},
   "outputs": [],
   "source": [
    "scraper.keep_rules(['rule_zpmj','rule_oxeb','rule_2b7t'])\n",
    "scraper.save('amazon-search')"
   ]
  },
  {
   "cell_type": "markdown",
   "id": "0b4dd87c",
   "metadata": {},
   "source": [
    "### we can use this scraper again to scrap similar data from Amazon with other products by just updating the URL"
   ]
  },
  {
   "cell_type": "code",
   "execution_count": 10,
   "id": "4a4e0cca",
   "metadata": {},
   "outputs": [],
   "source": [
    "# specify the path\n",
    "scraper.load(\"amazon-search\")"
   ]
  },
  {
   "cell_type": "code",
   "execution_count": 11,
   "id": "3fdabdf3",
   "metadata": {},
   "outputs": [],
   "source": [
    "df = scraper.get_result_similar(\"https://www.amazon.in/s?k=playstation\", group_by_alias=True)"
   ]
  },
  {
   "cell_type": "markdown",
   "id": "6be40526",
   "metadata": {},
   "source": [
    "### As we want to convert our data data to csv file so use following code "
   ]
  },
  {
   "cell_type": "code",
   "execution_count": 12,
   "id": "3935f553",
   "metadata": {},
   "outputs": [],
   "source": [
    "import pandas as pd\n",
    "data = pd.DataFrame(dict([ (k,pd.Series(v)) for k,v in df.items() ]))\n",
    "# Converting our DataFrame to CSV file\n",
    "data.to_csv('PlayStation_Data.csv')"
   ]
  },
  {
   "cell_type": "code",
   "execution_count": 13,
   "id": "b24805ad",
   "metadata": {},
   "outputs": [
    {
     "data": {
      "text/html": [
       "<div>\n",
       "<style scoped>\n",
       "    .dataframe tbody tr th:only-of-type {\n",
       "        vertical-align: middle;\n",
       "    }\n",
       "\n",
       "    .dataframe tbody tr th {\n",
       "        vertical-align: top;\n",
       "    }\n",
       "\n",
       "    .dataframe thead th {\n",
       "        text-align: right;\n",
       "    }\n",
       "</style>\n",
       "<table border=\"1\" class=\"dataframe\">\n",
       "  <thead>\n",
       "    <tr style=\"text-align: right;\">\n",
       "      <th></th>\n",
       "      <th>Title</th>\n",
       "      <th>Price</th>\n",
       "      <th>Rating</th>\n",
       "    </tr>\n",
       "  </thead>\n",
       "  <tbody>\n",
       "    <tr>\n",
       "      <th>0</th>\n",
       "      <td>Sony PlayStation Plus: 12 Month Membership  PE...</td>\n",
       "      <td>₹2,839</td>\n",
       "      <td>483</td>\n",
       "    </tr>\n",
       "    <tr>\n",
       "      <th>1</th>\n",
       "      <td>PlayStation Plus: 1 Month Membership Card (Ema...</td>\n",
       "      <td>₹2,999</td>\n",
       "      <td>2,814</td>\n",
       "    </tr>\n",
       "    <tr>\n",
       "      <th>2</th>\n",
       "      <td>Destiny 2 - PlayStation 4 Standard Edition  PE...</td>\n",
       "      <td>₹499</td>\n",
       "      <td>1,966</td>\n",
       "    </tr>\n",
       "    <tr>\n",
       "      <th>3</th>\n",
       "      <td>Ubisoft Far Cry 5 PlayStation 4 Standard</td>\n",
       "      <td>₹790</td>\n",
       "      <td>2,544</td>\n",
       "    </tr>\n",
       "    <tr>\n",
       "      <th>4</th>\n",
       "      <td>Sony PS4 1 TB Slim Console with Additional Dua...</td>\n",
       "      <td>₹2,499</td>\n",
       "      <td>43</td>\n",
       "    </tr>\n",
       "  </tbody>\n",
       "</table>\n",
       "</div>"
      ],
      "text/plain": [
       "                                               Title   Price Rating\n",
       "0  Sony PlayStation Plus: 12 Month Membership  PE...  ₹2,839    483\n",
       "1  PlayStation Plus: 1 Month Membership Card (Ema...  ₹2,999  2,814\n",
       "2  Destiny 2 - PlayStation 4 Standard Edition  PE...    ₹499  1,966\n",
       "3           Ubisoft Far Cry 5 PlayStation 4 Standard    ₹790  2,544\n",
       "4  Sony PS4 1 TB Slim Console with Additional Dua...  ₹2,499     43"
      ]
     },
     "execution_count": 13,
     "metadata": {},
     "output_type": "execute_result"
    }
   ],
   "source": [
    "data.head()"
   ]
  },
  {
   "cell_type": "code",
   "execution_count": 14,
   "id": "144a2705",
   "metadata": {},
   "outputs": [
    {
     "data": {
      "text/plain": [
       "(22, 3)"
      ]
     },
     "execution_count": 14,
     "metadata": {},
     "output_type": "execute_result"
    }
   ],
   "source": [
    "data.shape"
   ]
  }
 ],
 "metadata": {
  "kernelspec": {
   "display_name": "Python 3",
   "language": "python",
   "name": "python3"
  },
  "language_info": {
   "codemirror_mode": {
    "name": "ipython",
    "version": 3
   },
   "file_extension": ".py",
   "mimetype": "text/x-python",
   "name": "python",
   "nbconvert_exporter": "python",
   "pygments_lexer": "ipython3",
   "version": "3.8.8"
  }
 },
 "nbformat": 4,
 "nbformat_minor": 5
}
